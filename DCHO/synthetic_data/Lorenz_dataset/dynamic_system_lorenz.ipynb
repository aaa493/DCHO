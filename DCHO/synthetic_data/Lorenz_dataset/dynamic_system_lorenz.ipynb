{
 "cells": [
  {
   "cell_type": "code",
   "execution_count": 1,
   "metadata": {},
   "outputs": [],
   "source": [
    "import numpy as np\n",
    "import matplotlib.pyplot as plt\n",
    "from scipy.integrate import solve_ivp\n",
    "import torch\n",
    "import os\n",
    "from tqdm.notebook import tqdm\n",
    "import itertools"
   ]
  },
  {
   "cell_type": "markdown",
   "metadata": {},
   "source": [
    "# Lorenz system"
   ]
  },
  {
   "cell_type": "code",
   "execution_count": null,
   "metadata": {},
   "outputs": [],
   "source": [
    "def lorenz(xyz, sigma=10.0, rho=28.0, beta=8.0 / 3.0):\n",
    "    x, y, z = xyz\n",
    "    dx = sigma * (y - x)\n",
    "    dy = x * (rho - z) - y\n",
    "    dz = x * y - beta * z\n",
    "    return np.array([dx, dy, dz])\n",
    "\n",
    "def multi_node_lorenz(t, state, N, K, C):\n",
    "    state = state.reshape(N, 3)\n",
    "    dstate = np.zeros_like(state)\n",
    "    \n",
    "    for i in range(N):\n",
    "        dstate[i] = lorenz(state[i])\n",
    "        \n",
    "        coupling = np.zeros(3)\n",
    "        for j in range(N):\n",
    "            coupling+= C[i, j] * (state[j] - state[i])\n",
    "\n",
    "        dstate[i] += K * coupling\n",
    "    \n",
    "    return dstate.flatten()\n",
    "\n",
    "def lorenz_system(N = 10):\n",
    "\n",
    "    K = 0.1    # coupling strength\n",
    "    C = np.ones((N, N)) - np.eye(N)\n",
    "\n",
    "    np.random.seed(0)\n",
    "    initial_state = np.random.rand(N, 3)\n",
    "\n",
    "    t_span = [0, 30]\n",
    "    t_eval = np.linspace(t_span[0], t_span[1], 5000)\n",
    "\n",
    "    sol = solve_ivp(multi_node_lorenz, t_span, initial_state.flatten(), t_eval=t_eval, args=(N, K, C))\n",
    "\n",
    "    X_all = sol.y.reshape(N, 3, -1)  # shape (N, 3, T)\n",
    "\n",
    "    return X_all # (N, 3, T)\n",
    "\n"
   ]
  },
  {
   "cell_type": "markdown",
   "metadata": {},
   "source": [
    "# save data"
   ]
  },
  {
   "cell_type": "code",
   "execution_count": null,
   "metadata": {},
   "outputs": [],
   "source": [
    "N = 20\n",
    "trial_num = 10\n",
    "data_save_dir = \"./Lorenz_data\"\n",
    "\n",
    "os.makedirs(data_save_dir, exist_ok=True)\n",
    "\n",
    "for N in N_list:\n",
    "    print(\"N:\", N)\n",
    "\n",
    "    for i in tqdm(range(trial_num), desc=\"dataset\", position=0):\n",
    "\n",
    "        X_all = lorenz_system(N) # [N, 3, T]\n",
    "\n",
    "        states_time = torch.from_numpy(X_all).float()\n",
    "        states_time = states_time.permute(2, 0, 1) # [N, 3, T] -> [T, N, 3]\n",
    "\n",
    "        data_path = os.path.join(data_save_dir, \"Lorenz_data_n%s_trial0%s.pt\" % (N, i+1))\n",
    "\n",
    "        dataset = {\n",
    "            \"states_time\": states_time,\n",
    "        }\n",
    "\n",
    "        torch.save(dataset, data_path)\n"
   ]
  }
 ],
 "metadata": {
  "kernelspec": {
   "display_name": "torch",
   "language": "python",
   "name": "python3"
  },
  "language_info": {
   "codemirror_mode": {
    "name": "ipython",
    "version": 3
   },
   "file_extension": ".py",
   "mimetype": "text/x-python",
   "name": "python",
   "nbconvert_exporter": "python",
   "pygments_lexer": "ipython3",
   "version": "3.9.20"
  }
 },
 "nbformat": 4,
 "nbformat_minor": 2
}
